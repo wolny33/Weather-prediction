{
 "cells": [
  {
   "cell_type": "code",
   "execution_count": 1,
   "metadata": {},
   "outputs": [],
   "source": [
    "# %pip install pandas\n",
    "# %pip install numpy\n",
    "# %pip install scikit-learn\n",
    "# %pip install kagglehub\n",
    "# %pip install cupy"
   ]
  },
  {
   "cell_type": "code",
   "execution_count": 2,
   "metadata": {
    "execution": {
     "iopub.execute_input": "2024-12-29T16:54:24.574362Z",
     "iopub.status.busy": "2024-12-29T16:54:24.573960Z",
     "iopub.status.idle": "2024-12-29T16:54:25.867960Z",
     "shell.execute_reply": "2024-12-29T16:54:25.866721Z",
     "shell.execute_reply.started": "2024-12-29T16:54:24.574325Z"
    },
    "trusted": true
   },
   "outputs": [
    {
     "name": "stderr",
     "output_type": "stream",
     "text": [
      "c:\\Users\\patry\\anaconda3\\envs\\weather\\lib\\site-packages\\tqdm\\auto.py:21: TqdmWarning: IProgress not found. Please update jupyter and ipywidgets. See https://ipywidgets.readthedocs.io/en/stable/user_install.html\n",
      "  from .autonotebook import tqdm as notebook_tqdm\n"
     ]
    }
   ],
   "source": [
    "import pandas as pd\n",
    "import numpy as np\n",
    "import kagglehub\n",
    "import cupy as cp\n"
   ]
  },
  {
   "cell_type": "code",
   "execution_count": 3,
   "metadata": {
    "execution": {
     "iopub.execute_input": "2024-12-29T16:54:25.869990Z",
     "iopub.status.busy": "2024-12-29T16:54:25.869419Z",
     "iopub.status.idle": "2024-12-29T16:54:29.158623Z",
     "shell.execute_reply": "2024-12-29T16:54:29.157504Z",
     "shell.execute_reply.started": "2024-12-29T16:54:25.869950Z"
    },
    "trusted": true
   },
   "outputs": [],
   "source": [
    "historical_hourly_weather_data_path = kagglehub.dataset_download('selfishgene/historical-hourly-weather-data')\n",
    "\n",
    "city = \"Portland\"\n",
    "\n",
    "city_attributes = pd.read_csv(f\"{historical_hourly_weather_data_path}/city_attributes.csv\")\n",
    "humidity = pd.read_csv(f\"{historical_hourly_weather_data_path}/humidity.csv\")\n",
    "pressure = pd.read_csv(f\"{historical_hourly_weather_data_path}/pressure.csv\")\n",
    "temperature = pd.read_csv(f\"{historical_hourly_weather_data_path}/temperature.csv\")\n",
    "weather_description = pd.read_csv(f\"{historical_hourly_weather_data_path}/weather_description.csv\")\n",
    "wind_speed = pd.read_csv(f\"{historical_hourly_weather_data_path}/wind_speed.csv\")\n",
    "wind_direction = pd.read_csv(f\"{historical_hourly_weather_data_path}/wind_direction.csv\")"
   ]
  },
  {
   "cell_type": "code",
   "execution_count": 4,
   "metadata": {},
   "outputs": [
    {
     "name": "stderr",
     "output_type": "stream",
     "text": [
      "C:\\Users\\patry\\AppData\\Local\\Temp\\ipykernel_42912\\263827200.py:30: FutureWarning: DataFrame.interpolate with object dtype is deprecated and will raise in a future version. Call obj.infer_objects(copy=False) before interpolating instead.\n",
      "  combined_data = combined_data.ffill().bfill().interpolate()\n"
     ]
    }
   ],
   "source": [
    "historical_hourly_weather_data_path = kagglehub.dataset_download('selfishgene/historical-hourly-weather-data')\n",
    "\n",
    "city_attributes = pd.read_csv(f\"{historical_hourly_weather_data_path}/city_attributes.csv\")\n",
    "humidity = pd.read_csv(f\"{historical_hourly_weather_data_path}/humidity.csv\")\n",
    "pressure = pd.read_csv(f\"{historical_hourly_weather_data_path}/pressure.csv\")\n",
    "temperature = pd.read_csv(f\"{historical_hourly_weather_data_path}/temperature.csv\")\n",
    "weather_description = pd.read_csv(f\"{historical_hourly_weather_data_path}/weather_description.csv\")\n",
    "wind_speed = pd.read_csv(f\"{historical_hourly_weather_data_path}/wind_speed.csv\")\n",
    "wind_direction = pd.read_csv(f\"{historical_hourly_weather_data_path}/wind_direction.csv\")\n",
    "\n",
    "data_frames = []\n",
    "for city in city_attributes['City']:\n",
    "    city_data = pd.DataFrame({\n",
    "        'datetime': pd.to_datetime(humidity['datetime']),\n",
    "        'humidity': humidity[city],\n",
    "        'pressure': pressure[city],\n",
    "        'temperature': temperature[city],\n",
    "        'weather_description': weather_description[city],\n",
    "        'wind_speed': wind_speed[city],\n",
    "        'wind_direction': wind_direction[city],\n",
    "        'latitude': city_attributes.loc[city_attributes['City'] == city, 'Latitude'].values[0],\n",
    "        'longitude': city_attributes.loc[city_attributes['City'] == city, 'Longitude'].values[0],\n",
    "        'city': city\n",
    "    })\n",
    "    city_data.set_index('datetime', inplace=True)\n",
    "    data_frames.append(city_data)\n",
    "\n",
    "combined_data = pd.concat(data_frames)\n",
    "\n",
    "combined_data = combined_data.ffill().bfill().interpolate()\n",
    "\n",
    "aggregated_data = combined_data.groupby(['city']).resample('D').agg({\n",
    "    'temperature': 'mean',\n",
    "    'humidity': 'mean',\n",
    "    'wind_speed': ['max', 'mean'],\n",
    "    'pressure': 'mean',\n",
    "    'weather_description': lambda x: x.mode()[0] if not x.mode().empty else np.nan,\n",
    "    'wind_direction': 'mean',\n",
    "    'latitude': 'mean',\n",
    "    'longitude': 'mean'\n",
    "}).reset_index()\n",
    "\n",
    "aggregated_data.columns = [\n",
    "    '_'.join(col).strip('_') if isinstance(col, tuple) else col for col in aggregated_data.columns\n",
    "]"
   ]
  },
  {
   "cell_type": "code",
   "execution_count": 5,
   "metadata": {},
   "outputs": [],
   "source": [
    "one_hot_weather_description = pd.get_dummies(\n",
    "    aggregated_data['weather_description_<lambda>'],\n",
    "    prefix='weather_desc',\n",
    "    drop_first=False\n",
    ")\n",
    "\n",
    "aggregated_data = pd.concat([aggregated_data, one_hot_weather_description], axis=1)\n",
    "aggregated_data.drop(columns=['weather_description_<lambda>'], inplace=True)"
   ]
  },
  {
   "cell_type": "code",
   "execution_count": 6,
   "metadata": {},
   "outputs": [],
   "source": [
    "binary_output = True"
   ]
  },
  {
   "cell_type": "code",
   "execution_count": 7,
   "metadata": {},
   "outputs": [],
   "source": [
    "def preprocess_weather_data(data, binary_output=True, window_size=3):\n",
    "    X, y = [], []\n",
    "    for i in range(window_size, len(data) - 1):\n",
    "        X_window = data.iloc[i-window_size:i][[\n",
    "            'temperature_mean', 'humidity_mean', 'wind_speed_max',\n",
    "            'wind_speed_mean', 'pressure_mean', 'wind_direction_mean',\n",
    "            'weather_desc_broken clouds', 'weather_desc_dust',\n",
    "            'weather_desc_few clouds', 'weather_desc_fog',\n",
    "            'weather_desc_freezing rain', 'weather_desc_haze',\n",
    "            'weather_desc_heavy intensity rain', 'weather_desc_light rain',\n",
    "            'weather_desc_mist', 'weather_desc_moderate rain',\n",
    "            'weather_desc_overcast clouds', 'weather_desc_scattered clouds',\n",
    "            'weather_desc_sky is clear', 'weather_desc_smoke', 'weather_desc_snow'\n",
    "        ]].values\n",
    "        y_target = data.iloc[i + 1][['temperature_mean', 'wind_speed_max']].values\n",
    "\n",
    "        if binary_output:\n",
    "            # encode wind speed > 6 as binary\n",
    "            y_target[1] = 1 if y_target[1] >= 6 else 0\n",
    "        X.append(X_window)\n",
    "        y.append(y_target)\n",
    "\n",
    "    X = np.array(X)\n",
    "    y = np.array(y)\n",
    "\n",
    "    # split into train/test (0.7 or 0.8)\n",
    "    train_size = int(0.8 * len(X))\n",
    "    X_train, X_test = X[:train_size], X[train_size:]\n",
    "    y_train, y_test = y[:train_size], y[train_size:]\n",
    "\n",
    "    continuous_indices = [0, 1, 2, 3, 4, 5]\n",
    "\n",
    "    X_train_continuous = X_train[:, :, continuous_indices]\n",
    "    X_test_continuous = X_test[:, :, continuous_indices]\n",
    "    X_train_continuous = X_train[:, :, continuous_indices].astype(float) \n",
    "    X_test_continuous = X_test[:, :, continuous_indices].astype(float)\n",
    "\n",
    "    X_mean = X_train_continuous.mean(axis=(0, 1), keepdims=True)\n",
    "    X_std = X_train_continuous.std(axis=(0, 1), keepdims=True)\n",
    "\n",
    "    X_train[:, :, continuous_indices] = (X_train_continuous - X_mean) / (X_std + 1e-9)\n",
    "    X_test[:, :, continuous_indices] = (X_test_continuous - X_mean) / (X_std + 1e-9)\n",
    "\n",
    "    return X_train, X_test, y_train, y_test"
   ]
  },
  {
   "cell_type": "code",
   "execution_count": 8,
   "metadata": {},
   "outputs": [],
   "source": [
    "X_train, X_test, y_train, y_test = preprocess_weather_data(aggregated_data, binary_output=binary_output, window_size=3)"
   ]
  },
  {
   "cell_type": "code",
   "execution_count": 9,
   "metadata": {},
   "outputs": [
    {
     "name": "stdout",
     "output_type": "stream",
     "text": [
      "(54342, 3, 21)\n",
      "(54342, 2)\n",
      "(13586, 3, 21)\n",
      "(13586, 2)\n"
     ]
    }
   ],
   "source": [
    "print(X_train.shape)\n",
    "print(y_train.shape)\n",
    "\n",
    "print(X_test.shape)\n",
    "print(y_test.shape)"
   ]
  },
  {
   "cell_type": "code",
   "execution_count": 10,
   "metadata": {},
   "outputs": [],
   "source": [
    "def train_and_evaluate(model, X_train, y_train, X_test, y_test, epochs=1000, learning_rate=0.001, rate = [500], binary_output=True):\n",
    "    X_train_cp = cp.array(X_train.reshape(X_train.shape[0], -1), dtype=cp.float32)\n",
    "    y_train_cp = cp.array(y_train, dtype=cp.float32)\n",
    "    X_test_cp = cp.array(X_test.reshape(X_test.shape[0], -1), dtype=cp.float32)\n",
    "    y_test_cp = cp.array(y_test, dtype=cp.float32)\n",
    "\n",
    "    model.train(X_train_cp, y_train_cp, X_test_cp, y_test_cp, epochs, learning_rate, rate, batch_size=256)\n",
    "\n",
    "    predictions = model.predict(X_test_cp)\n",
    "    \n",
    "    mae = cp.mean(cp.abs(predictions[:, 0] - y_test_cp[:, 0]))\n",
    "\n",
    "    from sklearn.metrics import roc_auc_score\n",
    "    if binary_output:\n",
    "        auc = roc_auc_score(cp.asnumpy(y_test_cp[:, 1]), cp.asnumpy(predictions[:, 1]))\n",
    "    else:\n",
    "        auc = roc_auc_score((cp.asnumpy(y_test_cp[:, 1]) >= 6), cp.asnumpy(predictions[:, 1]))\n",
    "\n",
    "    print(f\"Test Regression MAE: {mae}\")\n",
    "    print(f\"Test Classification AUC: {auc}\")\n",
    "\n",
    "    # print(\"Predictions:\" , predictions[:5, :])\n",
    "    # print(\"True values:\", y_test_cp[:5, :])\n",
    "\n",
    "    return mae, auc"
   ]
  },
  {
   "cell_type": "code",
   "execution_count": 11,
   "metadata": {},
   "outputs": [
    {
     "name": "stdout",
     "output_type": "stream",
     "text": [
      "Epoch 0, Regression Loss: 197.01556396484375, Classification AUC: 0.4748484920732234, Learning Rate: 0.0001\n",
      "Test Regression MAE: 196.55502319335938, Test Classification AUC: 0.5330876864995208\n",
      "Epoch 10, Regression Loss: 2.98771333694458, Classification AUC: 0.7042568614790937, Learning Rate: 0.0001\n",
      "Epoch 20, Regression Loss: 2.9157984256744385, Classification AUC: 0.726918300369968, Learning Rate: 0.0001\n",
      "Epoch 30, Regression Loss: 2.8038928508758545, Classification AUC: 0.7266852959934976, Learning Rate: 0.0001\n",
      "Epoch 40, Regression Loss: 2.889495372772217, Classification AUC: 0.7299505529176088, Learning Rate: 0.0001\n",
      "Epoch 50, Regression Loss: 2.7829818725585938, Classification AUC: 0.7307186966233084, Learning Rate: 0.0001\n",
      "Epoch 60, Regression Loss: 2.8507518768310547, Classification AUC: 0.7312831122622832, Learning Rate: 0.0001\n",
      "Epoch 70, Regression Loss: 2.8242576122283936, Classification AUC: 0.7322180945099537, Learning Rate: 0.0001\n",
      "Epoch 80, Regression Loss: 2.7767763137817383, Classification AUC: 0.7339756915803828, Learning Rate: 0.0001\n",
      "Epoch 90, Regression Loss: 2.741713762283325, Classification AUC: 0.7362243939361302, Learning Rate: 0.0001\n",
      "Epoch 100, Regression Loss: 2.8394434452056885, Classification AUC: 0.7359019085119114, Learning Rate: 0.0001\n",
      "Test Regression MAE: 2.2473130226135254, Test Classification AUC: 0.732752259730677\n",
      "Epoch 110, Regression Loss: 2.8075366020202637, Classification AUC: 0.7374111984925115, Learning Rate: 0.0001\n",
      "Epoch 120, Regression Loss: 2.7407782077789307, Classification AUC: 0.7380488207123079, Learning Rate: 0.0001\n",
      "Epoch 130, Regression Loss: 2.7336349487304688, Classification AUC: 0.7401743275319618, Learning Rate: 0.0001\n",
      "Epoch 140, Regression Loss: 2.7228431701660156, Classification AUC: 0.7405714201266564, Learning Rate: 0.0001\n",
      "Epoch 150, Regression Loss: 2.7631895542144775, Classification AUC: 0.7419541099974898, Learning Rate: 0.0001\n",
      "Epoch 160, Regression Loss: 2.754587173461914, Classification AUC: 0.7426883605331418, Learning Rate: 0.0001\n",
      "Epoch 170, Regression Loss: 2.7835545539855957, Classification AUC: 0.7424659588540132, Learning Rate: 0.0001\n",
      "Epoch 180, Regression Loss: 2.715651750564575, Classification AUC: 0.7431830717526671, Learning Rate: 0.0001\n",
      "Epoch 190, Regression Loss: 2.729658842086792, Classification AUC: 0.7434960430634558, Learning Rate: 0.0001\n",
      "Epoch 200, Regression Loss: 2.7034354209899902, Classification AUC: 0.74413332510078, Learning Rate: 0.0001\n",
      "Test Regression MAE: 2.152409315109253, Test Classification AUC: 0.7347784984638589\n",
      "Epoch 210, Regression Loss: 2.7066924571990967, Classification AUC: 0.7445308382847132, Learning Rate: 0.0001\n",
      "Epoch 220, Regression Loss: 2.7780959606170654, Classification AUC: 0.7449297197581466, Learning Rate: 0.0001\n",
      "Epoch 230, Regression Loss: 2.753566026687622, Classification AUC: 0.7447026008820674, Learning Rate: 0.0001\n",
      "Epoch 240, Regression Loss: 2.7813355922698975, Classification AUC: 0.7456927559160988, Learning Rate: 0.0001\n",
      "Epoch 250, Regression Loss: 2.7775216102600098, Classification AUC: 0.7456369350649471, Learning Rate: 0.0001\n",
      "Epoch 260, Regression Loss: 2.770190715789795, Classification AUC: 0.7455726192733079, Learning Rate: 0.0001\n",
      "Epoch 270, Regression Loss: 2.7346112728118896, Classification AUC: 0.7450527586041314, Learning Rate: 0.0001\n",
      "Epoch 280, Regression Loss: 2.699131965637207, Classification AUC: 0.7475347718441928, Learning Rate: 0.0001\n",
      "Epoch 290, Regression Loss: 2.733696222305298, Classification AUC: 0.7481855986418168, Learning Rate: 0.0001\n",
      "Epoch 300, Regression Loss: 2.768389940261841, Classification AUC: 0.7479091739243602, Learning Rate: 0.0001\n",
      "Test Regression MAE: 2.2555978298187256, Test Classification AUC: 0.7391889571166284\n",
      "Epoch 310, Regression Loss: 2.770341157913208, Classification AUC: 0.7481627906097081, Learning Rate: 0.0001\n",
      "Epoch 320, Regression Loss: 2.9921021461486816, Classification AUC: 0.749021943091714, Learning Rate: 0.0001\n",
      "Epoch 330, Regression Loss: 2.732187509536743, Classification AUC: 0.7494308011892923, Learning Rate: 0.0001\n",
      "Epoch 340, Regression Loss: 2.757413148880005, Classification AUC: 0.7477434576409293, Learning Rate: 0.0001\n",
      "Epoch 350, Regression Loss: 2.8196589946746826, Classification AUC: 0.7496693818093604, Learning Rate: 0.0001\n",
      "Epoch 360, Regression Loss: 2.8891401290893555, Classification AUC: 0.7491738452178163, Learning Rate: 0.0001\n",
      "Epoch 370, Regression Loss: 2.712007999420166, Classification AUC: 0.7495254949320975, Learning Rate: 0.0001\n",
      "Epoch 380, Regression Loss: 2.8129429817199707, Classification AUC: 0.749827375607049, Learning Rate: 0.0001\n",
      "Epoch 390, Regression Loss: 2.6663122177124023, Classification AUC: 0.7500822286323322, Learning Rate: 0.0001\n",
      "Epoch 400, Regression Loss: 2.6724672317504883, Classification AUC: 0.7496856954488142, Learning Rate: 0.0001\n",
      "Test Regression MAE: 2.175919532775879, Test Classification AUC: 0.741094221753654\n",
      "Epoch 410, Regression Loss: 2.6545629501342773, Classification AUC: 0.7488427954421408, Learning Rate: 0.0001\n",
      "Epoch 420, Regression Loss: 2.7058863639831543, Classification AUC: 0.7498303994512482, Learning Rate: 0.0001\n",
      "Epoch 430, Regression Loss: 2.7845096588134766, Classification AUC: 0.7501503620272727, Learning Rate: 0.0001\n",
      "Epoch 440, Regression Loss: 2.647308111190796, Classification AUC: 0.7502733108451689, Learning Rate: 0.0001\n",
      "Epoch 450, Regression Loss: 2.726766347885132, Classification AUC: 0.7505399960353554, Learning Rate: 0.0001\n",
      "Epoch 460, Regression Loss: 2.666036367416382, Classification AUC: 0.7492836891072961, Learning Rate: 0.0001\n",
      "Epoch 470, Regression Loss: 2.702814817428589, Classification AUC: 0.7502087222203145, Learning Rate: 0.0001\n",
      "Epoch 480, Regression Loss: 2.907959461212158, Classification AUC: 0.7483047161116654, Learning Rate: 0.0001\n",
      "Epoch 490, Regression Loss: 2.666142463684082, Classification AUC: 0.7509004980535294, Learning Rate: 0.0001\n",
      "Epoch 500, Regression Loss: 2.6337616443634033, Classification AUC: 0.7508174337406187, Learning Rate: 1e-05\n",
      "Test Regression MAE: 2.1516077518463135, Test Classification AUC: 0.738738244598657\n",
      "Epoch 510, Regression Loss: 2.6276795864105225, Classification AUC: 0.7512822061536242, Learning Rate: 1e-05\n",
      "Epoch 520, Regression Loss: 2.626445770263672, Classification AUC: 0.7512285576596343, Learning Rate: 1e-05\n",
      "Epoch 530, Regression Loss: 2.63258957862854, Classification AUC: 0.75134992308275, Learning Rate: 1e-05\n",
      "Epoch 540, Regression Loss: 2.632859706878662, Classification AUC: 0.7513968833831615, Learning Rate: 1e-05\n",
      "Epoch 550, Regression Loss: 2.650116443634033, Classification AUC: 0.7513934870563359, Learning Rate: 1e-05\n",
      "Epoch 560, Regression Loss: 2.6299078464508057, Classification AUC: 0.7514344883219632, Learning Rate: 1e-05\n",
      "Epoch 570, Regression Loss: 2.6428308486938477, Classification AUC: 0.7514338993595817, Learning Rate: 1e-05\n",
      "Epoch 580, Regression Loss: 2.638951539993286, Classification AUC: 0.7514209957916995, Learning Rate: 1e-05\n",
      "Epoch 590, Regression Loss: 2.62432599067688, Classification AUC: 0.7515242044048746, Learning Rate: 1e-05\n",
      "Epoch 600, Regression Loss: 2.633408308029175, Classification AUC: 0.7515656262597403, Learning Rate: 1e-05\n",
      "Test Regression MAE: 2.162473678588867, Test Classification AUC: 0.7397929322299223\n",
      "Epoch 610, Regression Loss: 2.6230976581573486, Classification AUC: 0.7515569766908565, Learning Rate: 1e-05\n",
      "Epoch 620, Regression Loss: 2.630685806274414, Classification AUC: 0.7515078426588084, Learning Rate: 1e-05\n",
      "Epoch 630, Regression Loss: 2.6424198150634766, Classification AUC: 0.7516363127413173, Learning Rate: 1e-05\n",
      "Epoch 640, Regression Loss: 2.6425178050994873, Classification AUC: 0.7516270446588471, Learning Rate: 1e-05\n",
      "Epoch 650, Regression Loss: 2.6292827129364014, Classification AUC: 0.7516739815931897, Learning Rate: 1e-05\n",
      "Epoch 660, Regression Loss: 2.62388277053833, Classification AUC: 0.7517441354658451, Learning Rate: 1e-05\n",
      "Epoch 670, Regression Loss: 2.630788564682007, Classification AUC: 0.7517035224893025, Learning Rate: 1e-05\n",
      "Epoch 680, Regression Loss: 2.621126174926758, Classification AUC: 0.7518140543033377, Learning Rate: 1e-05\n",
      "Epoch 690, Regression Loss: 2.624159336090088, Classification AUC: 0.7517756583543829, Learning Rate: 1e-05\n",
      "Epoch 700, Regression Loss: 2.6333470344543457, Classification AUC: 0.7517950515042586, Learning Rate: 1e-05\n",
      "Test Regression MAE: 2.170463800430298, Test Classification AUC: 0.7392775653361816\n",
      "Epoch 710, Regression Loss: 2.63163423538208, Classification AUC: 0.7518998716889442, Learning Rate: 1e-05\n",
      "Epoch 720, Regression Loss: 2.622951030731201, Classification AUC: 0.7518721987038616, Learning Rate: 1e-05\n",
      "Epoch 730, Regression Loss: 2.644993782043457, Classification AUC: 0.7518913506334387, Learning Rate: 1e-05\n",
      "Epoch 740, Regression Loss: 2.634127140045166, Classification AUC: 0.7518926055287813, Learning Rate: 1e-05\n",
      "Epoch 750, Regression Loss: 2.6254594326019287, Classification AUC: 0.7519257111248625, Learning Rate: 1.0000000000000002e-06\n",
      "Epoch 760, Regression Loss: 2.6222078800201416, Classification AUC: 0.7519668649571742, Learning Rate: 1.0000000000000002e-06\n",
      "Epoch 770, Regression Loss: 2.625786781311035, Classification AUC: 0.7519928232851486, Learning Rate: 1.0000000000000002e-06\n",
      "Epoch 780, Regression Loss: 2.6199774742126465, Classification AUC: 0.7520064457032654, Learning Rate: 1.0000000000000002e-06\n",
      "Epoch 790, Regression Loss: 2.620339870452881, Classification AUC: 0.7520114728442463, Learning Rate: 1.0000000000000002e-06\n",
      "Epoch 800, Regression Loss: 2.622706651687622, Classification AUC: 0.7520254904238208, Learning Rate: 1.0000000000000002e-06\n",
      "Test Regression MAE: 2.155100107192993, Test Classification AUC: 0.7394301094267296\n",
      "Epoch 810, Regression Loss: 2.6211471557617188, Classification AUC: 0.7520341008201776, Learning Rate: 1.0000000000000002e-06\n",
      "Epoch 820, Regression Loss: 2.6209983825683594, Classification AUC: 0.7520229771969489, Learning Rate: 1.0000000000000002e-06\n",
      "Epoch 830, Regression Loss: 2.622514486312866, Classification AUC: 0.752029655769205, Learning Rate: 1.0000000000000002e-06\n",
      "Epoch 840, Regression Loss: 2.6200098991394043, Classification AUC: 0.7520259130747714, Learning Rate: 1.0000000000000002e-06\n",
      "Epoch 850, Regression Loss: 2.620144844055176, Classification AUC: 0.752022004756144, Learning Rate: 1.0000000000000002e-06\n",
      "Epoch 860, Regression Loss: 2.6200239658355713, Classification AUC: 0.7520254711811759, Learning Rate: 1.0000000000000002e-06\n",
      "Epoch 870, Regression Loss: 2.623257637023926, Classification AUC: 0.7520256842247445, Learning Rate: 1.0000000000000002e-06\n",
      "Epoch 880, Regression Loss: 2.619192361831665, Classification AUC: 0.7520477472916005, Learning Rate: 1.0000000000000002e-06\n",
      "Epoch 890, Regression Loss: 2.619398593902588, Classification AUC: 0.7520384922666394, Learning Rate: 1.0000000000000002e-06\n",
      "Epoch 900, Regression Loss: 2.6203322410583496, Classification AUC: 0.752046019576983, Learning Rate: 1.0000000000000002e-07\n",
      "Test Regression MAE: 2.1521501541137695, Test Classification AUC: 0.7394140701893828\n",
      "Epoch 910, Regression Loss: 2.6204323768615723, Classification AUC: 0.7520458457059417, Learning Rate: 1.0000000000000002e-07\n",
      "Epoch 920, Regression Loss: 2.620867967605591, Classification AUC: 0.7520456862668838, Learning Rate: 1.0000000000000002e-07\n",
      "Epoch 930, Regression Loss: 2.6205859184265137, Classification AUC: 0.7520443069815868, Learning Rate: 1.0000000000000002e-07\n",
      "Epoch 940, Regression Loss: 2.6206698417663574, Classification AUC: 0.752044506280409, Learning Rate: 1.0000000000000002e-07\n",
      "Epoch 950, Regression Loss: 2.620241165161133, Classification AUC: 0.7520459604745737, Learning Rate: 1.0000000000000002e-07\n",
      "Epoch 960, Regression Loss: 2.620619535446167, Classification AUC: 0.7520464016809318, Learning Rate: 1.0000000000000002e-07\n",
      "Epoch 970, Regression Loss: 2.6211585998535156, Classification AUC: 0.7520477088063107, Learning Rate: 1.0000000000000002e-07\n",
      "Epoch 980, Regression Loss: 2.620826244354248, Classification AUC: 0.7520473768706861, Learning Rate: 1.0000000000000002e-07\n",
      "Epoch 990, Regression Loss: 2.6205477714538574, Classification AUC: 0.7520488695501407, Learning Rate: 1.0000000000000002e-07\n",
      "Test Regression MAE: 2.1528210639953613\n",
      "Test Classification AUC: 0.739365941423423\n"
     ]
    },
    {
     "data": {
      "text/plain": [
       "(array(2.152821, dtype=float32), np.float64(0.739365941423423))"
      ]
     },
     "execution_count": 11,
     "metadata": {},
     "output_type": "execute_result"
    }
   ],
   "source": [
    "from weather_prediction import WeatherPredictionNetwork\n",
    "\n",
    "layers = [X_train.shape[1] * X_train.shape[2],512, 512, 2]\n",
    "activations = [\"sigmoid\", \"relu\"]\n",
    "model = WeatherPredictionNetwork(layers, activations, binary_output=binary_output, seed=42)\n",
    "\n",
    "train_and_evaluate(model, X_train, y_train, X_test, y_test, epochs=1000, learning_rate=0.0001, rate = [500, 750, 900], binary_output=binary_output)"
   ]
  },
  {
   "cell_type": "code",
   "execution_count": null,
   "metadata": {},
   "outputs": [],
   "source": []
  },
  {
   "cell_type": "code",
   "execution_count": 12,
   "metadata": {},
   "outputs": [
    {
     "name": "stdout",
     "output_type": "stream",
     "text": [
      "Majority class percentage in training data: 56.02%\n",
      "Class distribution in training data: {0: np.int64(30444), 1: np.int64(23898)}\n",
      "Majority class percentage in test data: 57.03%\n",
      "Class distribution in test data: {0: np.int64(7748), 1: np.int64(5838)}\n"
     ]
    }
   ],
   "source": [
    "def compute_majority_class_percentage(y, binary_output=True):\n",
    "    if binary_output:\n",
    "        binary_labels = y[:, 1]\n",
    "    else:\n",
    "        binary_labels = y[:, 1] >=6\n",
    "    \n",
    "    unique, counts = np.unique(binary_labels, return_counts=True)\n",
    "    class_counts = dict(zip(unique, counts))\n",
    "    \n",
    "    majority_class_count = max(class_counts.values())\n",
    "    total_samples = len(binary_labels)\n",
    "    majority_class_percentage = (majority_class_count / total_samples) * 100\n",
    "    \n",
    "    return majority_class_percentage, class_counts\n",
    "\n",
    "majority_percentage_train, train_class_counts = compute_majority_class_percentage(y_train, binary_output=binary_output)\n",
    "majority_percentage_test, test_class_counts = compute_majority_class_percentage(y_test, binary_output=binary_output)\n",
    "\n",
    "print(f\"Majority class percentage in training data: {majority_percentage_train:.2f}%\")\n",
    "print(f\"Class distribution in training data: {train_class_counts}\")\n",
    "print(f\"Majority class percentage in test data: {majority_percentage_test:.2f}%\")\n",
    "print(f\"Class distribution in test data: {test_class_counts}\")\n"
   ]
  },
  {
   "cell_type": "code",
   "execution_count": null,
   "metadata": {},
   "outputs": [],
   "source": []
  }
 ],
 "metadata": {
  "kaggle": {
   "accelerator": "none",
   "dataSources": [
    {
     "datasetId": 7752,
     "sourceId": 11375,
     "sourceType": "datasetVersion"
    }
   ],
   "dockerImageVersionId": 30822,
   "isGpuEnabled": false,
   "isInternetEnabled": true,
   "language": "python",
   "sourceType": "notebook"
  },
  "kernelspec": {
   "display_name": "weather",
   "language": "python",
   "name": "python3"
  },
  "language_info": {
   "codemirror_mode": {
    "name": "ipython",
    "version": 3
   },
   "file_extension": ".py",
   "mimetype": "text/x-python",
   "name": "python",
   "nbconvert_exporter": "python",
   "pygments_lexer": "ipython3",
   "version": "3.9.21"
  }
 },
 "nbformat": 4,
 "nbformat_minor": 4
}
