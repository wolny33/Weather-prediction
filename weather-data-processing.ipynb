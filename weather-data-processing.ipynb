{
 "cells": [
  {
   "cell_type": "code",
   "execution_count": 1,
   "metadata": {},
   "outputs": [],
   "source": [
    "# %pip install pandas\n",
    "# %pip install numpy\n",
    "# %pip install scikit-learn\n",
    "# %pip install kagglehub\n",
    "# %pip install cupy"
   ]
  },
  {
   "cell_type": "code",
   "execution_count": 2,
   "metadata": {
    "execution": {
     "iopub.execute_input": "2024-12-29T16:54:24.574362Z",
     "iopub.status.busy": "2024-12-29T16:54:24.573960Z",
     "iopub.status.idle": "2024-12-29T16:54:25.867960Z",
     "shell.execute_reply": "2024-12-29T16:54:25.866721Z",
     "shell.execute_reply.started": "2024-12-29T16:54:24.574325Z"
    },
    "trusted": true
   },
   "outputs": [
    {
     "name": "stderr",
     "output_type": "stream",
     "text": [
      "c:\\Users\\patry\\anaconda3\\envs\\weather\\lib\\site-packages\\tqdm\\auto.py:21: TqdmWarning: IProgress not found. Please update jupyter and ipywidgets. See https://ipywidgets.readthedocs.io/en/stable/user_install.html\n",
      "  from .autonotebook import tqdm as notebook_tqdm\n"
     ]
    }
   ],
   "source": [
    "import pandas as pd\n",
    "import numpy as np\n",
    "from sklearn.preprocessing import LabelEncoder\n",
    "import kagglehub\n",
    "import cupy as cp\n"
   ]
  },
  {
   "cell_type": "code",
   "execution_count": 3,
   "metadata": {
    "execution": {
     "iopub.execute_input": "2024-12-29T16:54:25.869990Z",
     "iopub.status.busy": "2024-12-29T16:54:25.869419Z",
     "iopub.status.idle": "2024-12-29T16:54:29.158623Z",
     "shell.execute_reply": "2024-12-29T16:54:29.157504Z",
     "shell.execute_reply.started": "2024-12-29T16:54:25.869950Z"
    },
    "trusted": true
   },
   "outputs": [],
   "source": [
    "historical_hourly_weather_data_path = kagglehub.dataset_download('selfishgene/historical-hourly-weather-data')\n",
    "\n",
    "city = \"Portland\"\n",
    "\n",
    "city_attributes = pd.read_csv(f\"{historical_hourly_weather_data_path}/city_attributes.csv\")\n",
    "humidity = pd.read_csv(f\"{historical_hourly_weather_data_path}/humidity.csv\")\n",
    "pressure = pd.read_csv(f\"{historical_hourly_weather_data_path}/pressure.csv\")\n",
    "temperature = pd.read_csv(f\"{historical_hourly_weather_data_path}/temperature.csv\")\n",
    "weather_description = pd.read_csv(f\"{historical_hourly_weather_data_path}/weather_description.csv\")\n",
    "wind_speed = pd.read_csv(f\"{historical_hourly_weather_data_path}/wind_speed.csv\")\n",
    "wind_direction = pd.read_csv(f\"{historical_hourly_weather_data_path}/wind_direction.csv\")"
   ]
  },
  {
   "cell_type": "code",
   "execution_count": 4,
   "metadata": {
    "execution": {
     "iopub.execute_input": "2024-12-29T16:54:29.161394Z",
     "iopub.status.busy": "2024-12-29T16:54:29.160941Z",
     "iopub.status.idle": "2024-12-29T16:54:29.178700Z",
     "shell.execute_reply": "2024-12-29T16:54:29.177526Z",
     "shell.execute_reply.started": "2024-12-29T16:54:29.161353Z"
    },
    "trusted": true
   },
   "outputs": [],
   "source": [
    "if city not in city_attributes['City'].values:\n",
    "    raise ValueError(f\"City '{city}' does not exist in the data. Available cities are: {city_attributes['City'].unique()}\")\n",
    "\n",
    "selected_city = city_attributes[city_attributes['City'] == city].index[0]\n",
    "data_frames = [humidity, pressure, temperature, weather_description, wind_speed, wind_direction]\n",
    "\n",
    "for i, df in enumerate(data_frames):\n",
    "    df.set_index('datetime', inplace=True)\n",
    "    data_frames[i] = df.iloc[:, selected_city]"
   ]
  },
  {
   "cell_type": "code",
   "execution_count": 5,
   "metadata": {
    "execution": {
     "iopub.execute_input": "2024-12-29T16:54:29.180658Z",
     "iopub.status.busy": "2024-12-29T16:54:29.180324Z",
     "iopub.status.idle": "2024-12-29T16:54:29.674041Z",
     "shell.execute_reply": "2024-12-29T16:54:29.673014Z",
     "shell.execute_reply.started": "2024-12-29T16:54:29.180632Z"
    },
    "trusted": true
   },
   "outputs": [],
   "source": [
    "combined_data = pd.concat(data_frames, axis=1)\n",
    "combined_data.columns = [\n",
    "    'humidity', 'pressure', 'temperature', 'weather_description', \n",
    "    'wind_speed', 'wind_direction'\n",
    "]\n",
    "combined_data.index = pd.to_datetime(combined_data.index)\n",
    "# aggregate daily\n",
    "aggregated_data = combined_data.resample('D').agg({\n",
    "    'temperature': 'mean',\n",
    "    'humidity': 'mean',\n",
    "    'wind_speed': ['max', 'mean'],\n",
    "    'pressure': 'mean',\n",
    "    'weather_description': lambda x: x.mode()[0] if not x.mode().empty else np.nan,\n",
    "    'wind_direction': 'mean'\n",
    "})\n",
    "aggregated_data.columns = ['_'.join(col).strip('_') for col in aggregated_data.columns.values]\n",
    "aggregated_data = aggregated_data.rename(columns={\n",
    "    'temperature_mean': 'mean_temperature',\n",
    "    'wind_speed_max': 'max_wind_speed'\n",
    "})"
   ]
  },
  {
   "cell_type": "code",
   "execution_count": 6,
   "metadata": {
    "execution": {
     "iopub.execute_input": "2024-12-29T16:54:29.675192Z",
     "iopub.status.busy": "2024-12-29T16:54:29.674948Z",
     "iopub.status.idle": "2024-12-29T16:54:29.680544Z",
     "shell.execute_reply": "2024-12-29T16:54:29.679146Z",
     "shell.execute_reply.started": "2024-12-29T16:54:29.675171Z"
    },
    "trusted": true
   },
   "outputs": [],
   "source": [
    "# def get_wind_direction_for_max_speed(group):\n",
    "#     max_wind_speed_idx = group['wind_speed'].idxmax()\n",
    "#     return group.loc[max_wind_speed_idx, 'wind_direction']"
   ]
  },
  {
   "cell_type": "code",
   "execution_count": 7,
   "metadata": {
    "execution": {
     "iopub.execute_input": "2024-12-29T16:54:29.681920Z",
     "iopub.status.busy": "2024-12-29T16:54:29.681630Z",
     "iopub.status.idle": "2024-12-29T16:54:30.109542Z",
     "shell.execute_reply": "2024-12-29T16:54:30.108502Z",
     "shell.execute_reply.started": "2024-12-29T16:54:29.681896Z"
    },
    "trusted": true
   },
   "outputs": [],
   "source": [
    "# aggregated_data.rename(columns={'wind_speed': 'wind_speed_max'}, inplace=True)\n",
    "\n",
    "# aggregated_data['wind_direction'] = combined_data.groupby(combined_data.index.date).apply(get_wind_direction_for_max_speed)\n",
    "\n",
    "# aggregated_data['wind_speed_mean'] = combined_data['wind_speed'].resample('D').mean()\n",
    "\n",
    "# encoder = LabelEncoder()\n",
    "# aggregated_data['weather_description'] = encoder.fit_transform(aggregated_data['weather_description'])"
   ]
  },
  {
   "cell_type": "code",
   "execution_count": 8,
   "metadata": {
    "execution": {
     "iopub.execute_input": "2024-12-29T16:54:30.110815Z",
     "iopub.status.busy": "2024-12-29T16:54:30.110545Z",
     "iopub.status.idle": "2024-12-29T16:54:30.116792Z",
     "shell.execute_reply": "2024-12-29T16:54:30.115861Z",
     "shell.execute_reply.started": "2024-12-29T16:54:30.110788Z"
    },
    "trusted": true
   },
   "outputs": [],
   "source": [
    "# weather_mapping = dict(enumerate(encoder.classes_))\n",
    "# print(\"Mapping for weather_description:\", weather_mapping)"
   ]
  },
  {
   "cell_type": "code",
   "execution_count": 9,
   "metadata": {
    "execution": {
     "iopub.execute_input": "2024-12-29T16:54:30.119864Z",
     "iopub.status.busy": "2024-12-29T16:54:30.119559Z",
     "iopub.status.idle": "2024-12-29T16:54:30.142206Z",
     "shell.execute_reply": "2024-12-29T16:54:30.141099Z",
     "shell.execute_reply.started": "2024-12-29T16:54:30.119840Z"
    },
    "trusted": true
   },
   "outputs": [],
   "source": [
    "# aggregated_data['mean_temperature_next_day'] = aggregated_data['temperature'].shift(-1)\n",
    "# aggregated_data['max_wind_speed_next_day'] = aggregated_data['wind_speed_max'].shift(-1)\n",
    "\n",
    "# aggregated_data = aggregated_data.dropna()"
   ]
  },
  {
   "cell_type": "code",
   "execution_count": 10,
   "metadata": {
    "execution": {
     "iopub.execute_input": "2024-12-29T16:54:30.144158Z",
     "iopub.status.busy": "2024-12-29T16:54:30.143864Z",
     "iopub.status.idle": "2024-12-29T16:54:30.153837Z",
     "shell.execute_reply": "2024-12-29T16:54:30.152886Z",
     "shell.execute_reply.started": "2024-12-29T16:54:30.144133Z"
    },
    "trusted": true
   },
   "outputs": [],
   "source": [
    "# X = aggregated_data.drop(columns=['mean_temperature_next_day', 'max_wind_speed_next_day'])\n",
    "# y = aggregated_data[['mean_temperature_next_day', 'max_wind_speed_next_day']]\n",
    "\n",
    "# train_size = int(0.8 * len(aggregated_data))\n",
    "# X_train, X_test = X[:train_size], X[train_size:]\n",
    "# y_train, y_test = y[:train_size], y[train_size:]"
   ]
  },
  {
   "cell_type": "code",
   "execution_count": 11,
   "metadata": {
    "execution": {
     "iopub.execute_input": "2024-12-29T16:54:30.155495Z",
     "iopub.status.busy": "2024-12-29T16:54:30.155061Z",
     "iopub.status.idle": "2024-12-29T16:54:30.172300Z",
     "shell.execute_reply": "2024-12-29T16:54:30.171295Z",
     "shell.execute_reply.started": "2024-12-29T16:54:30.155450Z"
    },
    "trusted": true
   },
   "outputs": [],
   "source": [
    "# print(\"Train data:\", X_train.shape, y_train.shape)\n",
    "# print(\"Test data:\", X_test.shape, y_test.shape)"
   ]
  },
  {
   "cell_type": "code",
   "execution_count": 12,
   "metadata": {
    "execution": {
     "iopub.execute_input": "2024-12-29T16:54:30.173978Z",
     "iopub.status.busy": "2024-12-29T16:54:30.173528Z",
     "iopub.status.idle": "2024-12-29T16:54:30.195625Z",
     "shell.execute_reply": "2024-12-29T16:54:30.194359Z",
     "shell.execute_reply.started": "2024-12-29T16:54:30.173940Z"
    },
    "trusted": true
   },
   "outputs": [],
   "source": [
    "# print(X_train)"
   ]
  },
  {
   "cell_type": "code",
   "execution_count": 13,
   "metadata": {
    "execution": {
     "iopub.execute_input": "2024-12-29T16:54:30.197273Z",
     "iopub.status.busy": "2024-12-29T16:54:30.196868Z",
     "iopub.status.idle": "2024-12-29T16:54:30.207111Z",
     "shell.execute_reply": "2024-12-29T16:54:30.205597Z",
     "shell.execute_reply.started": "2024-12-29T16:54:30.197244Z"
    },
    "trusted": true
   },
   "outputs": [],
   "source": [
    "# print(y_train)"
   ]
  },
  {
   "cell_type": "code",
   "execution_count": 14,
   "metadata": {
    "execution": {
     "iopub.execute_input": "2024-12-29T16:54:30.208969Z",
     "iopub.status.busy": "2024-12-29T16:54:30.208583Z",
     "iopub.status.idle": "2024-12-29T16:54:30.224534Z",
     "shell.execute_reply": "2024-12-29T16:54:30.223181Z",
     "shell.execute_reply.started": "2024-12-29T16:54:30.208941Z"
    },
    "trusted": true
   },
   "outputs": [],
   "source": [
    "# def create_time_windows(data, window_size=5):\n",
    "#     X, y = [], []\n",
    "#     for i in range(window_size, len(data)):\n",
    "#         X.append(data.iloc[i-window_size:i][['temperature', 'humidity', 'pressure', 'wind_speed_max', 'wind_speed_mean', 'wind_direction', 'weather_description']].values.T)\n",
    "#         y.append(data.iloc[i][['mean_temperature_next_day', 'max_wind_speed_next_day']].values)\n",
    "#     return np.array(X), np.array(y)"
   ]
  },
  {
   "cell_type": "code",
   "execution_count": 15,
   "metadata": {
    "execution": {
     "iopub.execute_input": "2024-12-29T16:54:30.226245Z",
     "iopub.status.busy": "2024-12-29T16:54:30.225856Z",
     "iopub.status.idle": "2024-12-29T16:54:32.214422Z",
     "shell.execute_reply": "2024-12-29T16:54:32.213087Z",
     "shell.execute_reply.started": "2024-12-29T16:54:30.226208Z"
    },
    "trusted": true
   },
   "outputs": [],
   "source": [
    "# X, y = create_time_windows(aggregated_data)\n",
    "\n",
    "# train_size = int(0.8 * len(X))\n",
    "# X_train, X_test = X[:train_size], X[train_size:]\n",
    "# y_train, y_test = y[:train_size], y[train_size:]"
   ]
  },
  {
   "cell_type": "code",
   "execution_count": 16,
   "metadata": {
    "execution": {
     "iopub.execute_input": "2024-12-29T16:54:52.861230Z",
     "iopub.status.busy": "2024-12-29T16:54:52.860846Z",
     "iopub.status.idle": "2024-12-29T16:54:52.868867Z",
     "shell.execute_reply": "2024-12-29T16:54:52.867778Z",
     "shell.execute_reply.started": "2024-12-29T16:54:52.861203Z"
    },
    "trusted": true
   },
   "outputs": [],
   "source": [
    "# print(\"Training data windowed:\", X_train.shape, y_train.shape)\n",
    "# print(\"Test data windowed:\", X_test.shape, y_test.shape)"
   ]
  },
  {
   "cell_type": "code",
   "execution_count": 17,
   "metadata": {},
   "outputs": [],
   "source": [
    "binary_output = True"
   ]
  },
  {
   "cell_type": "code",
   "execution_count": 18,
   "metadata": {},
   "outputs": [],
   "source": [
    "def preprocess_weather_data(data, binary_output=True, window_size=3):\n",
    "    X, y = [], []\n",
    "    for i in range(window_size, len(data) - 1):\n",
    "        X_window = data.iloc[i-window_size:i][[\n",
    "            'mean_temperature', 'humidity_mean', 'pressure_mean', 'max_wind_speed', 'wind_speed_mean', 'wind_direction_mean'\n",
    "        ]].values\n",
    "        y_target = data.iloc[i][['mean_temperature', 'max_wind_speed']].values\n",
    "\n",
    "        if binary_output:\n",
    "            # encode wind speed > 6 as binary\n",
    "            y_target[1] = 1 if y_target[1] >= 6 else 0\n",
    "        X.append(X_window)\n",
    "        y.append(y_target)\n",
    "\n",
    "    X = np.array(X)\n",
    "    y = np.array(y)\n",
    "\n",
    "    # X_mean = X.mean(axis=(0, 1), keepdims=True)\n",
    "    # X_std = X.std(axis=(0, 1), keepdims=True)\n",
    "    # X_normalized = (X - X_mean) / (X_std + 1e-9)\n",
    "\n",
    "    train_size = int(0.7 * len(X))\n",
    "    X_train, X_test = X[:train_size], X[train_size:]\n",
    "    y_train, y_test = y[:train_size], y[train_size:]\n",
    "\n",
    "    X_mean = X_train.mean(axis=(0, 1), keepdims=True)\n",
    "    X_std = X_train.std(axis=(0, 1), keepdims=True)\n",
    "    X_train = (X_train - X_mean) / (X_std + 1e-9)\n",
    "    X_test = (X_test - X_mean) / (X_std + 1e-9)\n",
    "\n",
    "    return X_train, X_test, y_train, y_test"
   ]
  },
  {
   "cell_type": "code",
   "execution_count": 19,
   "metadata": {},
   "outputs": [],
   "source": [
    "# X, y = preprocess_weather_data(aggregated_data, window_size=3)\n",
    "\n",
    "# # Split into train/test\n",
    "# train_size = int(0.8 * len(X))\n",
    "# X_train, X_test = X[:train_size], X[train_size:]\n",
    "# y_train, y_test = y[:train_size], y[train_size:]"
   ]
  },
  {
   "cell_type": "code",
   "execution_count": 20,
   "metadata": {},
   "outputs": [],
   "source": [
    "X_train, X_test, y_train, y_test = preprocess_weather_data(aggregated_data, binary_output=binary_output, window_size=3)"
   ]
  },
  {
   "cell_type": "code",
   "execution_count": 21,
   "metadata": {},
   "outputs": [
    {
     "name": "stdout",
     "output_type": "stream",
     "text": [
      "(1318, 3, 6)\n",
      "(1318, 2)\n",
      "(565, 3, 6)\n",
      "(565, 2)\n"
     ]
    }
   ],
   "source": [
    "print(X_train.shape)\n",
    "print(y_train.shape)\n",
    "\n",
    "print(X_test.shape)\n",
    "print(y_test.shape)"
   ]
  },
  {
   "cell_type": "code",
   "execution_count": 22,
   "metadata": {},
   "outputs": [],
   "source": [
    "def train_and_evaluate(model, X_train, y_train, X_test, y_test, epochs=1000, learning_rate=0.001, rate = [500], binary_output=True):\n",
    "    X_train_cp = cp.array(X_train.reshape(X_train.shape[0], -1), dtype=cp.float32)\n",
    "    y_train_cp = cp.array(y_train, dtype=cp.float32)\n",
    "    X_test_cp = cp.array(X_test.reshape(X_test.shape[0], -1), dtype=cp.float32)\n",
    "    y_test_cp = cp.array(y_test, dtype=cp.float32)\n",
    "\n",
    "    model.train(X_train_cp, y_train_cp, epochs, learning_rate, rate)\n",
    "\n",
    "    predictions = model.predict(X_test_cp)\n",
    "    \n",
    "    mae = cp.mean(cp.abs(predictions[:, 0] - y_test_cp[:, 0]))\n",
    "\n",
    "    from sklearn.metrics import roc_auc_score\n",
    "    if binary_output:\n",
    "        auc = roc_auc_score(cp.asnumpy(y_test_cp[:, 1]), cp.asnumpy(predictions[:, 1]))\n",
    "    else:\n",
    "        auc = roc_auc_score((cp.asnumpy(y_test_cp[:, 1]) >= 6), cp.asnumpy(predictions[:, 1]))\n",
    "\n",
    "    print(f\"Test Regression MAE: {mae}\")\n",
    "    print(f\"Test Classification AUC: {auc}\")\n",
    "\n",
    "    return mae, auc"
   ]
  },
  {
   "cell_type": "code",
   "execution_count": 23,
   "metadata": {},
   "outputs": [
    {
     "name": "stdout",
     "output_type": "stream",
     "text": [
      "Epoch 0, Regression Loss: 283.9161071777344, Classification AUC: 0.7825649501275806, Learning Rate: 0.0001\n",
      "Epoch 100, Regression Loss: 252.24388122558594, Classification AUC: 0.765530039434006, Learning Rate: 0.0001\n",
      "Epoch 200, Regression Loss: 212.68060302734375, Classification AUC: 0.7788767107399674, Learning Rate: 0.0001\n",
      "Epoch 300, Regression Loss: 162.89288330078125, Classification AUC: 0.7897964509394573, Learning Rate: 0.0001\n",
      "Epoch 400, Regression Loss: 102.13999938964844, Classification AUC: 0.7951519369055903, Learning Rate: 0.0001\n",
      "Epoch 500, Regression Loss: 30.540908813476562, Classification AUC: 0.7942820691254929, Learning Rate: 0.0001\n",
      "Epoch 600, Regression Loss: 1.6664892435073853, Classification AUC: 0.7954665390860591, Learning Rate: 0.0001\n",
      "Epoch 700, Regression Loss: 1.650574803352356, Classification AUC: 0.796440790999768, Learning Rate: 0.0001\n",
      "Epoch 800, Regression Loss: 1.6464414596557617, Classification AUC: 0.7989460102064486, Learning Rate: 0.0001\n",
      "Epoch 900, Regression Loss: 1.6446202993392944, Classification AUC: 0.799991301322199, Learning Rate: 0.0001\n",
      "Epoch 1000, Regression Loss: 1.6433266401290894, Classification AUC: 0.8007857805613547, Learning Rate: 0.0001\n",
      "Epoch 1100, Regression Loss: 1.6426455974578857, Classification AUC: 0.8017382857805614, Learning Rate: 0.0001\n",
      "Epoch 1200, Regression Loss: 1.6420764923095703, Classification AUC: 0.802363140802598, Learning Rate: 0.0001\n",
      "Epoch 1300, Regression Loss: 1.6416213512420654, Classification AUC: 0.8029691486893993, Learning Rate: 0.0001\n",
      "Epoch 1400, Regression Loss: 1.6412353515625, Classification AUC: 0.8036215495244723, Learning Rate: 0.0001\n",
      "Epoch 1500, Regression Loss: 1.640885591506958, Classification AUC: 0.8041579679888659, Learning Rate: 0.0001\n",
      "Epoch 1600, Regression Loss: 1.6405670642852783, Classification AUC: 0.8046305961493853, Learning Rate: 0.0001\n",
      "Epoch 1700, Regression Loss: 1.640271782875061, Classification AUC: 0.8052554511714219, Learning Rate: 0.0001\n",
      "Epoch 1800, Regression Loss: 1.6399670839309692, Classification AUC: 0.8057875202969149, Learning Rate: 0.0001\n",
      "Epoch 1900, Regression Loss: 1.6396311521530151, Classification AUC: 0.806060078868012, Learning Rate: 0.0001\n",
      "Epoch 2000, Regression Loss: 1.6393007040023804, Classification AUC: 0.8063891788448156, Learning Rate: 0.0001\n",
      "Epoch 2100, Regression Loss: 1.6389752626419067, Classification AUC: 0.8068574576664348, Learning Rate: 0.0001\n",
      "Epoch 2200, Regression Loss: 1.63862144947052, Classification AUC: 0.8071909069821388, Learning Rate: 0.0001\n",
      "Epoch 2300, Regression Loss: 1.638291358947754, Classification AUC: 0.8074895615866388, Learning Rate: 0.0001\n",
      "Epoch 2400, Regression Loss: 1.637929081916809, Classification AUC: 0.8077766179540711, Learning Rate: 0.0001\n",
      "Epoch 2500, Regression Loss: 1.6375850439071655, Classification AUC: 0.8080433774066341, Learning Rate: 1e-05\n",
      "Epoch 2600, Regression Loss: 1.5796561241149902, Classification AUC: 0.8079273950359546, Learning Rate: 1e-05\n",
      "Epoch 2700, Regression Loss: 1.5729845762252808, Classification AUC: 0.8080665738807701, Learning Rate: 1e-05\n",
      "Epoch 2800, Regression Loss: 1.5669574737548828, Classification AUC: 0.8081332637439109, Learning Rate: 1e-05\n",
      "Epoch 2900, Regression Loss: 1.5615849494934082, Classification AUC: 0.8082463465553237, Learning Rate: 1e-05\n",
      "Epoch 3000, Regression Loss: 1.5568089485168457, Classification AUC: 0.8083565298074693, Learning Rate: 1e-05\n",
      "Epoch 3100, Regression Loss: 1.5527656078338623, Classification AUC: 0.8085247042449548, Learning Rate: 1e-05\n",
      "Epoch 3200, Regression Loss: 1.5491337776184082, Classification AUC: 0.8087856645789839, Learning Rate: 1e-05\n",
      "Epoch 3300, Regression Loss: 1.5458508729934692, Classification AUC: 0.8089001971700301, Learning Rate: 1e-05\n",
      "Epoch 3400, Regression Loss: 1.543497085571289, Classification AUC: 0.8091800046392947, Learning Rate: 1e-05\n",
      "Epoch 3500, Regression Loss: 1.5416721105575562, Classification AUC: 0.809409069821387, Learning Rate: 1e-05\n",
      "Epoch 3600, Regression Loss: 1.5401995182037354, Classification AUC: 0.8097483182556251, Learning Rate: 1e-05\n",
      "Epoch 3700, Regression Loss: 1.5390490293502808, Classification AUC: 0.810131060078868, Learning Rate: 1e-05\n",
      "Epoch 3800, Regression Loss: 1.5380836725234985, Classification AUC: 0.8105674437485504, Learning Rate: 1e-05\n",
      "Epoch 3900, Regression Loss: 1.5372110605239868, Classification AUC: 0.8108037578288099, Learning Rate: 1e-05\n",
      "Epoch 4000, Regression Loss: 1.5363984107971191, Classification AUC: 0.8110734168406403, Learning Rate: 1e-05\n",
      "Epoch 4100, Regression Loss: 1.5356401205062866, Classification AUC: 0.8114242635119462, Learning Rate: 1e-05\n",
      "Epoch 4200, Regression Loss: 1.534887671470642, Classification AUC: 0.8118258524704245, Learning Rate: 1e-05\n",
      "Epoch 4300, Regression Loss: 1.5342276096343994, Classification AUC: 0.8121027603804222, Learning Rate: 1e-05\n",
      "Epoch 4400, Regression Loss: 1.5335850715637207, Classification AUC: 0.8124014149849225, Learning Rate: 1e-05\n",
      "Epoch 4500, Regression Loss: 1.5329691171646118, Classification AUC: 0.8127087682672234, Learning Rate: 1e-05\n",
      "Epoch 4600, Regression Loss: 1.5323530435562134, Classification AUC: 0.8129117374159128, Learning Rate: 1e-05\n",
      "Epoch 4700, Regression Loss: 1.5317351818084717, Classification AUC: 0.8132480862908837, Learning Rate: 1e-05\n",
      "Epoch 4800, Regression Loss: 1.5311353206634521, Classification AUC: 0.813555439573185, Learning Rate: 1e-05\n",
      "Epoch 4900, Regression Loss: 1.5305125713348389, Classification AUC: 0.8137091162143354, Learning Rate: 1e-05\n",
      "Epoch 5000, Regression Loss: 1.5299265384674072, Classification AUC: 0.8140338668522384, Learning Rate: 1e-05\n",
      "Epoch 5100, Regression Loss: 1.529341697692871, Classification AUC: 0.8143296218974716, Learning Rate: 1e-05\n",
      "Epoch 5200, Regression Loss: 1.5287606716156006, Classification AUC: 0.8145818835536999, Learning Rate: 1e-05\n",
      "Epoch 5300, Regression Loss: 1.528183937072754, Classification AUC: 0.8149182324286708, Learning Rate: 1e-05\n",
      "Epoch 5400, Regression Loss: 1.5276212692260742, Classification AUC: 0.8151472976107631, Learning Rate: 1e-05\n",
      "Epoch 5500, Regression Loss: 1.527045726776123, Classification AUC: 0.8153792623521224, Learning Rate: 1e-05\n",
      "Epoch 5600, Regression Loss: 1.5264607667922974, Classification AUC: 0.8156576200417537, Learning Rate: 1e-05\n",
      "Epoch 5700, Regression Loss: 1.5258712768554688, Classification AUC: 0.8158924843423799, Learning Rate: 1e-05\n",
      "Epoch 5800, Regression Loss: 1.5252772569656372, Classification AUC: 0.816223034098817, Learning Rate: 1e-05\n",
      "Epoch 5900, Regression Loss: 1.5246845483779907, Classification AUC: 0.8164347019253074, Learning Rate: 1e-05\n",
      "Epoch 6000, Regression Loss: 1.5240930318832397, Classification AUC: 0.8166811644630017, Learning Rate: 1.0000000000000002e-06\n",
      "Epoch 6100, Regression Loss: 1.5238324403762817, Classification AUC: 0.8167130596149386, Learning Rate: 1.0000000000000002e-06\n",
      "Epoch 6200, Regression Loss: 1.523716688156128, Classification AUC: 0.8167217582927395, Learning Rate: 1.0000000000000002e-06\n",
      "Epoch 6300, Regression Loss: 1.523599624633789, Classification AUC: 0.8167710508002783, Learning Rate: 1.0000000000000002e-06\n",
      "Epoch 6400, Regression Loss: 1.5234792232513428, Classification AUC: 0.8167942472744144, Learning Rate: 1.0000000000000002e-06\n",
      "Epoch 6500, Regression Loss: 1.5233546495437622, Classification AUC: 0.8168377406634191, Learning Rate: 1.0000000000000002e-06\n",
      "Epoch 6600, Regression Loss: 1.523219347000122, Classification AUC: 0.8168841336116909, Learning Rate: 1.0000000000000002e-06\n",
      "Epoch 6700, Regression Loss: 1.5230939388275146, Classification AUC: 0.8169682208304336, Learning Rate: 1.0000000000000002e-06\n",
      "Epoch 6800, Regression Loss: 1.522976279258728, Classification AUC: 0.8170291115750405, Learning Rate: 1.0000000000000002e-06\n",
      "Epoch 6900, Regression Loss: 1.5228586196899414, Classification AUC: 0.8170726049640455, Learning Rate: 1.0000000000000002e-06\n",
      "Epoch 7000, Regression Loss: 1.5227411985397339, Classification AUC: 0.8171045001159825, Learning Rate: 1.0000000000000002e-06\n",
      "Epoch 7100, Regression Loss: 1.5226263999938965, Classification AUC: 0.8171566921827882, Learning Rate: 1.0000000000000002e-06\n",
      "Epoch 7200, Regression Loss: 1.5225107669830322, Classification AUC: 0.817208884249594, Learning Rate: 1.0000000000000002e-06\n",
      "Epoch 7300, Regression Loss: 1.5223942995071411, Classification AUC: 0.817243678960798, Learning Rate: 1.0000000000000002e-06\n",
      "Epoch 7400, Regression Loss: 1.5222784280776978, Classification AUC: 0.8173132683832057, Learning Rate: 1.0000000000000002e-06\n",
      "Epoch 7500, Regression Loss: 1.5221601724624634, Classification AUC: 0.8173770586870795, Learning Rate: 1.0000000000000002e-07\n",
      "Epoch 7600, Regression Loss: 1.5221456289291382, Classification AUC: 0.8173828578056135, Learning Rate: 1.0000000000000002e-07\n",
      "Epoch 7700, Regression Loss: 1.522133708000183, Classification AUC: 0.8173799582463465, Learning Rate: 1.0000000000000002e-07\n",
      "Epoch 7800, Regression Loss: 1.5221210718154907, Classification AUC: 0.8173886569241475, Learning Rate: 1.0000000000000002e-07\n",
      "Epoch 7900, Regression Loss: 1.5221105813980103, Classification AUC: 0.8173973556019485, Learning Rate: 1.0000000000000002e-07\n",
      "Epoch 8000, Regression Loss: 1.5220987796783447, Classification AUC: 0.8174060542797495, Learning Rate: 1.0000000000000002e-07\n",
      "Epoch 8100, Regression Loss: 1.5220857858657837, Classification AUC: 0.8174031547204825, Learning Rate: 1.0000000000000002e-07\n",
      "Epoch 8200, Regression Loss: 1.522074580192566, Classification AUC: 0.8174089538390166, Learning Rate: 1.0000000000000002e-07\n",
      "Epoch 8300, Regression Loss: 1.5220623016357422, Classification AUC: 0.8174089538390165, Learning Rate: 1.0000000000000002e-07\n",
      "Epoch 8400, Regression Loss: 1.522050380706787, Classification AUC: 0.817407504059383, Learning Rate: 1.0000000000000002e-07\n",
      "Epoch 8500, Regression Loss: 1.5220389366149902, Classification AUC: 0.817407504059383, Learning Rate: 1.0000000000000002e-07\n",
      "Epoch 8600, Regression Loss: 1.5220280885696411, Classification AUC: 0.8174089538390164, Learning Rate: 1.0000000000000002e-07\n",
      "Epoch 8700, Regression Loss: 1.5220158100128174, Classification AUC: 0.8174060542797495, Learning Rate: 1.0000000000000002e-07\n",
      "Epoch 8800, Regression Loss: 1.522003173828125, Classification AUC: 0.8174147529575505, Learning Rate: 1.0000000000000002e-07\n",
      "Epoch 8900, Regression Loss: 1.521992802619934, Classification AUC: 0.8174205520760844, Learning Rate: 1.0000000000000002e-07\n",
      "Epoch 9000, Regression Loss: 1.5219810009002686, Classification AUC: 0.8174321503131524, Learning Rate: 1.0000000000000002e-07\n",
      "Epoch 9100, Regression Loss: 1.5219697952270508, Classification AUC: 0.8174408489909534, Learning Rate: 1.0000000000000002e-07\n",
      "Epoch 9200, Regression Loss: 1.5219568014144897, Classification AUC: 0.8174379494316864, Learning Rate: 1.0000000000000002e-07\n",
      "Epoch 9300, Regression Loss: 1.5219465494155884, Classification AUC: 0.8174393992113198, Learning Rate: 1.0000000000000002e-07\n",
      "Epoch 9400, Regression Loss: 1.5219340324401855, Classification AUC: 0.8174408489909534, Learning Rate: 1.0000000000000002e-07\n",
      "Epoch 9500, Regression Loss: 1.52192223072052, Classification AUC: 0.8174292507538854, Learning Rate: 1.0000000000000002e-07\n",
      "Epoch 9600, Regression Loss: 1.5219098329544067, Classification AUC: 0.817433600092786, Learning Rate: 1.0000000000000002e-07\n",
      "Epoch 9700, Regression Loss: 1.5218981504440308, Classification AUC: 0.8174422987705869, Learning Rate: 1.0000000000000002e-07\n",
      "Epoch 9800, Regression Loss: 1.5218863487243652, Classification AUC: 0.8174437485502203, Learning Rate: 1.0000000000000002e-07\n",
      "Epoch 9900, Regression Loss: 1.521875262260437, Classification AUC: 0.8174466481094873, Learning Rate: 1.0000000000000002e-07\n",
      "Test Regression MAE: 1.6406463384628296\n",
      "Test Classification AUC: 0.6993835616438356\n"
     ]
    },
    {
     "data": {
      "text/plain": [
       "(array(1.6406463, dtype=float32), np.float64(0.6993835616438356))"
      ]
     },
     "execution_count": 23,
     "metadata": {},
     "output_type": "execute_result"
    }
   ],
   "source": [
    "from weather_prediction import WeatherPredictionNetwork\n",
    "\n",
    "layers = [X_train.shape[1] * X_train.shape[2],512, 512, 2]\n",
    "activations = [\"sigmoid\", \"relu\"]\n",
    "model = WeatherPredictionNetwork(layers, activations, binary_output=binary_output, seed=42)\n",
    "\n",
    "train_and_evaluate(model, X_train, y_train, X_test, y_test, epochs=10000, learning_rate=0.0001, rate = [2500, 6000, 7500], binary_output=binary_output)"
   ]
  },
  {
   "cell_type": "code",
   "execution_count": null,
   "metadata": {},
   "outputs": [],
   "source": []
  },
  {
   "cell_type": "code",
   "execution_count": 24,
   "metadata": {},
   "outputs": [
    {
     "name": "stdout",
     "output_type": "stream",
     "text": [
      "Majority class percentage in training data: 72.69%\n",
      "Class distribution in training data: {0: np.int64(958), 1: np.int64(360)}\n",
      "Majority class percentage in test data: 64.60%\n",
      "Class distribution in test data: {0: np.int64(365), 1: np.int64(200)}\n"
     ]
    }
   ],
   "source": [
    "def compute_majority_class_percentage(y, binary_output=True):\n",
    "    if binary_output:\n",
    "        binary_labels = y[:, 1]\n",
    "    else:\n",
    "        binary_labels = y[:, 1] >=6\n",
    "    \n",
    "    unique, counts = np.unique(binary_labels, return_counts=True)\n",
    "    class_counts = dict(zip(unique, counts))\n",
    "    \n",
    "    majority_class_count = max(class_counts.values())\n",
    "    total_samples = len(binary_labels)\n",
    "    majority_class_percentage = (majority_class_count / total_samples) * 100\n",
    "    \n",
    "    return majority_class_percentage, class_counts\n",
    "\n",
    "majority_percentage_train, train_class_counts = compute_majority_class_percentage(y_train, binary_output=binary_output)\n",
    "majority_percentage_test, test_class_counts = compute_majority_class_percentage(y_test, binary_output=binary_output)\n",
    "\n",
    "print(f\"Majority class percentage in training data: {majority_percentage_train:.2f}%\")\n",
    "print(f\"Class distribution in training data: {train_class_counts}\")\n",
    "print(f\"Majority class percentage in test data: {majority_percentage_test:.2f}%\")\n",
    "print(f\"Class distribution in test data: {test_class_counts}\")\n"
   ]
  },
  {
   "cell_type": "code",
   "execution_count": null,
   "metadata": {},
   "outputs": [],
   "source": []
  },
  {
   "cell_type": "code",
   "execution_count": null,
   "metadata": {},
   "outputs": [],
   "source": []
  },
  {
   "cell_type": "code",
   "execution_count": 25,
   "metadata": {},
   "outputs": [],
   "source": [
    "# def preprocess_data(X, y):\n",
    "#     X = X.reshape(X.shape[0], -1)  # Flattening the time-series data\n",
    "#     X = cp.array(X, dtype=cp.float32)\n",
    "#     y = cp.array(y, dtype=cp.float32)\n",
    "#     return X, y\n"
   ]
  },
  {
   "cell_type": "code",
   "execution_count": 26,
   "metadata": {},
   "outputs": [],
   "source": [
    "# from network_test import Network\n",
    "# # Dataset preparation\n",
    "# X_train = np.random.rand(1504, 7, 5)  # Training data (1504 samples, 7 days, 5 features per day)\n",
    "# y_train = np.random.rand(1504, 2)     # Training targets (1504 samples, 2 output features)\n",
    "# X_test = np.random.rand(377, 7, 5)    # Test data\n",
    "# y_test = np.random.rand(377, 2)       # Test targets\n",
    "\n",
    "# # Preprocess the data\n",
    "# X_train, y_train = preprocess_data(X_train, y_train)\n",
    "# X_test, y_test = preprocess_data(X_test, y_test)\n",
    "\n",
    "# # Initialize and train the network\n",
    "# activations = [\"relu\", \"relu\", \"relu\"] \n",
    "# nn = Network([X_train.shape[1], 64, 32, y_train.shape[1]], activations, loss_function=\"mse\", seed=123)\n",
    "# nn.train(X_train, y_train, epochs=500, learning_rate=0.001)\n",
    "\n",
    "# # Predict and evaluate\n",
    "# predictions = nn.predict(X_test)\n",
    "# print(\"Predictions (first 5):\", predictions[:5].get())\n",
    "# print(\"Actual (first 5):\", y_test[:5].get())"
   ]
  },
  {
   "cell_type": "code",
   "execution_count": 27,
   "metadata": {},
   "outputs": [],
   "source": [
    "# import cupy as cp\n",
    "# from network_test import Network\n",
    "\n",
    "# # Dataset preparation\n",
    "# X_train = np.random.rand(1504, 7, 5)  # Training data (1504 samples, 7 days, 5 features per day)\n",
    "# y_train = np.random.rand(1504, 2)     # Training targets (1504 samples, 2 output features)\n",
    "# X_test = np.random.rand(377, 7, 5)    # Test data\n",
    "# y_test = np.random.rand(377, 2)       # Test targets\n",
    "\n",
    "# # Preprocess the data (no flattening for time-series)\n",
    "# def preprocess_data(X, y):\n",
    "#     # Flattening the time-series data to (samples, days*features)\n",
    "#     X = X.reshape(X.shape[0], -1)  # Now shape is (samples, days*features)\n",
    "#     X = cp.array(X, dtype=cp.float32)\n",
    "#     y = cp.array(y, dtype=cp.float32)\n",
    "#     return X, y\n",
    "\n",
    "# # Preprocess training and testing data\n",
    "# X_train, y_train = preprocess_data(X_train, y_train)\n",
    "# X_test, y_test = preprocess_data(X_test, y_test)\n",
    "\n",
    "# # Initialize and train the network\n",
    "# activations = [\"relu\", \"relu\", \"relu\"]  # Relu for hidden layers\n",
    "# nn = Network([X_train.shape[1], 64, 32, y_train.shape[1]], activations, loss_function=\"mse\", seed=123)\n",
    "\n",
    "# # Train the network\n",
    "# nn.train(X_train, y_train, epochs=500, learning_rate=0.001)\n",
    "\n",
    "# # Predict and evaluate\n",
    "# predictions = nn.predict(X_test)\n",
    "# print(\"Predictions (first 5):\", predictions[:5].get())\n",
    "# print(\"Actual (first 5):\", y_test[:5].get())\n"
   ]
  },
  {
   "cell_type": "code",
   "execution_count": null,
   "metadata": {},
   "outputs": [],
   "source": []
  },
  {
   "cell_type": "code",
   "execution_count": null,
   "metadata": {},
   "outputs": [],
   "source": []
  },
  {
   "cell_type": "code",
   "execution_count": 28,
   "metadata": {},
   "outputs": [],
   "source": [
    "# import numpy as np\n",
    "# import cupy as cp\n",
    "# import matplotlib.pyplot as plt\n",
    "\n",
    "# class NeuralNetwork:\n",
    "#     def __init__(self, layers, activation=\"relu\", loss=\"mse\"):\n",
    "#         self.layers = layers\n",
    "#         self.activation = activation\n",
    "#         self.loss = loss\n",
    "#         self.weights = []\n",
    "#         self.biases = []\n",
    "#         self.initialize_weights()\n",
    "\n",
    "#     def initialize_weights(self):\n",
    "#         for i in range(len(self.layers) - 1):\n",
    "#             weight = cp.random.randn(self.layers[i], self.layers[i + 1]) * cp.sqrt(2. / self.layers[i])\n",
    "#             bias = cp.zeros((1, self.layers[i + 1]))\n",
    "#             self.weights.append(weight)\n",
    "#             self.biases.append(bias)\n",
    "\n",
    "#     def activate(self, z, activation):\n",
    "#         if activation == \"sigmoid\":\n",
    "#             return 1 / (1 + cp.exp(-z))\n",
    "#         elif activation == \"relu\":\n",
    "#             return cp.maximum(0, z)\n",
    "#         elif activation == \"linear\":\n",
    "#             return z\n",
    "#         else:\n",
    "#             raise ValueError(\"Unsupported activation function\")\n",
    "\n",
    "#     def activate_derivative(self, a, activation):\n",
    "#         if activation == \"sigmoid\":\n",
    "#             return a * (1 - a)\n",
    "#         elif activation == \"relu\":\n",
    "#             return (a > 0).astype(cp.float32)\n",
    "#         elif activation == \"linear\":\n",
    "#             return cp.ones_like(a)\n",
    "#         else:\n",
    "#             raise ValueError(\"Unsupported activation function\")\n",
    "\n",
    "#     def forward(self, X):\n",
    "#         activations = [X]\n",
    "#         z_values = []\n",
    "\n",
    "#         for i in range(len(self.weights)):\n",
    "#             z = cp.dot(activations[-1], self.weights[i]) + self.biases[i]\n",
    "#             a = self.activate(z, \"linear\" if i == len(self.weights) - 1 else self.activation)\n",
    "#             z_values.append(z)\n",
    "#             activations.append(a)\n",
    "\n",
    "#         return activations, z_values\n",
    "\n",
    "#     def backward(self, X, y, activations, z_values):\n",
    "#         deltas = []\n",
    "#         delta = activations[-1] - y\n",
    "#         deltas.append(delta)\n",
    "\n",
    "#         for i in reversed(range(len(self.weights) - 1)):\n",
    "#             delta = cp.dot(deltas[0], self.weights[i + 1].T) * self.activate_derivative(activations[i + 1], self.activation)\n",
    "#             deltas.insert(0, delta)\n",
    "\n",
    "#         weight_grads = []\n",
    "#         bias_grads = []\n",
    "\n",
    "#         for i in range(len(self.weights)):\n",
    "#             weight_grad = cp.dot(activations[i].T, deltas[i]) / X.shape[0]\n",
    "#             bias_grad = cp.mean(deltas[i], axis=0, keepdims=True)\n",
    "#             weight_grads.append(weight_grad)\n",
    "#             bias_grads.append(bias_grad)\n",
    "\n",
    "#         return weight_grads, bias_grads\n",
    "\n",
    "#     def update_parameters(self, weight_grads, bias_grads, learning_rate):\n",
    "#         for i in range(len(self.weights)):\n",
    "#             self.weights[i] -= learning_rate * weight_grads[i]\n",
    "#             self.biases[i] -= learning_rate * bias_grads[i]\n",
    "\n",
    "#     def fit(self, X, y, epochs=1000, learning_rate=0.01):\n",
    "#         for epoch in range(epochs):\n",
    "#             activations, z_values = self.forward(X)\n",
    "#             weight_grads, bias_grads = self.backward(X, y, activations, z_values)\n",
    "#             self.update_parameters(weight_grads, bias_grads, learning_rate)\n",
    "\n",
    "#             if epoch % 100 == 0:\n",
    "#                 loss = self.calculate_loss(y, activations[-1])\n",
    "#                 print(f\"Epoch {epoch}/{epochs} - Loss: {loss}\")\n",
    "\n",
    "#     def calculate_loss(self, y, y_pred):\n",
    "#         if self.loss == \"mse\":\n",
    "#             return cp.mean((y - y_pred) ** 2)\n",
    "#         else:\n",
    "#             raise ValueError(\"Unsupported loss function\")\n",
    "\n",
    "#     def predict(self, X):\n",
    "#         activations, _ = self.forward(X)\n",
    "#         return activations[-1]\n",
    "\n",
    "# def preprocess_data(X, y):\n",
    "#     X = X.reshape(X.shape[0], -1)  # Flatten time-series data\n",
    "#     mean_X = np.mean(X, axis=0)\n",
    "#     std_X = np.std(X, axis=0)\n",
    "#     X_normalized = (X - mean_X) / std_X  # Normalize inputs\n",
    "\n",
    "#     mean_y = np.mean(y, axis=0)\n",
    "#     std_y = np.std(y, axis=0)\n",
    "#     y_normalized = (y - mean_y) / std_y  # Normalize targets\n",
    "\n",
    "#     return (\n",
    "#         cp.array(X_normalized, dtype=cp.float32),\n",
    "#         cp.array(y_normalized, dtype=cp.float32),\n",
    "#         mean_X, std_X,\n",
    "#         mean_y, std_y\n",
    "#     )\n",
    "\n",
    "# def denormalize(predictions, mean_y, std_y):\n",
    "#     mean_y = cp.asnumpy(mean_y)  # Convert cupy to numpy\n",
    "#     std_y = cp.asnumpy(std_y)    # Convert cupy to numpy\n",
    "#     predictions = np.array(predictions)  # Ensure numpy array\n",
    "#     return predictions * std_y + mean_y\n",
    "\n",
    "\n",
    "\n",
    "# # Dataset preparation\n",
    "# # X_train = np.random.rand(1504, 7, 5)\n",
    "# # y_train = np.random.rand(1504, 2)\n",
    "# # X_test = np.random.rand(377, 7, 5)\n",
    "# # y_test = np.random.rand(377, 2)\n",
    "\n",
    "# # Preprocess the data\n",
    "# X_train, y_train, mean_X, std_X, mean_y, std_y = preprocess_data(X_train, y_train)\n",
    "# X_test, y_test, _, _, _, _ = preprocess_data(X_test, y_test)\n",
    "\n",
    "# # Initialize the neural network\n",
    "# nn = NeuralNetwork(\n",
    "#     layers=[X_train.shape[1], 64, 32, y_train.shape[1]],  # Ensure 2 outputs for temperature and wind speed\n",
    "#     activation=\"relu\",\n",
    "#     loss=\"mse\",\n",
    "# )\n",
    "\n",
    "# # Train the model\n",
    "# nn.fit(X_train, y_train, epochs=15000, learning_rate=0.01)\n",
    "\n",
    "# # Predict normalized values\n",
    "# predictions_normalized = nn.predict(X_test).get()\n",
    "\n",
    "# # Denormalize the predictions\n",
    "# predictions_denormalized = denormalize(predictions_normalized, mean_y, std_y)\n",
    "\n",
    "# # Print results\n",
    "# print(\"Predictions (first 5):\", predictions_denormalized[:5])\n",
    "# print(\"Actual (first 5):\", y_test[:5].get())\n",
    "\n"
   ]
  },
  {
   "cell_type": "code",
   "execution_count": null,
   "metadata": {},
   "outputs": [],
   "source": []
  }
 ],
 "metadata": {
  "kaggle": {
   "accelerator": "none",
   "dataSources": [
    {
     "datasetId": 7752,
     "sourceId": 11375,
     "sourceType": "datasetVersion"
    }
   ],
   "dockerImageVersionId": 30822,
   "isGpuEnabled": false,
   "isInternetEnabled": true,
   "language": "python",
   "sourceType": "notebook"
  },
  "kernelspec": {
   "display_name": "weather",
   "language": "python",
   "name": "python3"
  },
  "language_info": {
   "codemirror_mode": {
    "name": "ipython",
    "version": 3
   },
   "file_extension": ".py",
   "mimetype": "text/x-python",
   "name": "python",
   "nbconvert_exporter": "python",
   "pygments_lexer": "ipython3",
   "version": "3.9.21"
  }
 },
 "nbformat": 4,
 "nbformat_minor": 4
}
